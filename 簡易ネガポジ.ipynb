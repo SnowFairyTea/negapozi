{
  "nbformat": 4,
  "nbformat_minor": 0,
  "metadata": {
    "colab": {
      "name": "簡易ネガポジ.ipynb",
      "provenance": [],
      "collapsed_sections": [],
      "authorship_tag": "ABX9TyMur5iQWd2P1nmg611DoBbz",
      "include_colab_link": true
    },
    "kernelspec": {
      "name": "python3",
      "display_name": "Python 3"
    },
    "language_info": {
      "name": "python"
    }
  },
  "cells": [
    {
      "cell_type": "markdown",
      "metadata": {
        "id": "view-in-github",
        "colab_type": "text"
      },
      "source": [
        "<a href=\"https://colab.research.google.com/github/SnowFairyTea/negapozi/blob/main/%E7%B0%A1%E6%98%93%E3%83%8D%E3%82%AC%E3%83%9D%E3%82%B8.ipynb\" target=\"_parent\"><img src=\"https://colab.research.google.com/assets/colab-badge.svg\" alt=\"Open In Colab\"/></a>"
      ]
    },
    {
      "cell_type": "code",
      "execution_count": null,
      "metadata": {
        "colab": {
          "base_uri": "https://localhost:8080/"
        },
        "id": "Oy4HrMTXB8TY",
        "outputId": "0e70d5b4-136d-4dc9-90aa-82d45ee7e7ef"
      },
      "outputs": [
        {
          "output_type": "stream",
          "name": "stdout",
          "text": [
            "Collecting janome\n",
            "  Downloading Janome-0.4.1-py2.py3-none-any.whl (19.7 MB)\n",
            "\u001b[K     |████████████████████████████████| 19.7 MB 49.3 MB/s \n",
            "\u001b[?25hInstalling collected packages: janome\n",
            "Successfully installed janome-0.4.1\n"
          ]
        }
      ],
      "source": [
        "!pip install janome"
      ]
    },
    {
      "cell_type": "code",
      "source": [
        "! curl http://www.cl.ecei.tohoku.ac.jp/resources/sent_lex/pn.csv.m3.120408.trim > pn.csv"
      ],
      "metadata": {
        "colab": {
          "base_uri": "https://localhost:8080/"
        },
        "id": "p87ZbREYB_n3",
        "outputId": "6dd97afd-a255-4409-f4f3-1ea4d011bd0b"
      },
      "execution_count": null,
      "outputs": [
        {
          "output_type": "stream",
          "name": "stdout",
          "text": [
            "  % Total    % Received % Xferd  Average Speed   Time    Time     Time  Current\n",
            "                                 Dload  Upload   Total   Spent    Left  Speed\n",
            "100  676k  100  676k    0     0   412k      0  0:00:01  0:00:01 --:--:--  412k\n"
          ]
        }
      ]
    },
    {
      "cell_type": "code",
      "source": [
        "# ネガポジ辞書を読む \n",
        "import csv \n",
        "np_dic = {} \n",
        "fp = open(\"pn.csv\", \"rt\", encoding=\"utf-8\") \n",
        "reader = csv.reader(fp, delimiter='\\t') \n",
        "for i, row in enumerate(reader): \n",
        "  name = row[0] \n",
        "  result = row[1] \n",
        "  np_dic[name] = result \n",
        "  if i % 500 == 0: \n",
        "    print(i) \n",
        "print(\"ok\")"
      ],
      "metadata": {
        "colab": {
          "base_uri": "https://localhost:8080/"
        },
        "id": "QweNlTfPCC7X",
        "outputId": "112f25f8-8633-48b6-f70d-647ae8326365"
      },
      "execution_count": null,
      "outputs": [
        {
          "output_type": "stream",
          "name": "stdout",
          "text": [
            "0\n",
            "500\n",
            "1000\n",
            "1500\n",
            "2000\n",
            "2500\n",
            "3000\n",
            "3500\n",
            "4000\n",
            "4500\n",
            "5000\n",
            "5500\n",
            "6000\n",
            "6500\n",
            "7000\n",
            "7500\n",
            "8000\n",
            "8500\n",
            "9000\n",
            "9500\n",
            "10000\n",
            "10500\n",
            "11000\n",
            "11500\n",
            "12000\n",
            "12500\n",
            "13000\n",
            "ok\n"
          ]
        }
      ]
    },
    {
      "cell_type": "code",
      "source": [
        "print(np_dic[\"笑顔\"]) \n",
        "print(np_dic[\"嫌い\"]) \n",
        "print(np_dic[\"時間\"])"
      ],
      "metadata": {
        "colab": {
          "base_uri": "https://localhost:8080/"
        },
        "id": "Mzwq9No6CZSv",
        "outputId": "ff9005ce-6b09-44b2-c3e5-487d627c100c"
      },
      "execution_count": null,
      "outputs": [
        {
          "output_type": "stream",
          "name": "stdout",
          "text": [
            "p\n",
            "n\n",
            "e\n"
          ]
        }
      ]
    },
    {
      "cell_type": "code",
      "source": [
        "# 形態素解析 \n",
        "from janome.tokenizer import Tokenizer \n",
        "tok = Tokenizer() \n",
        "def f(text):\n",
        "  # 数える \n",
        "  r=\"\"\n",
        "  res = {\"p\":0, \"n\":0, \"e\":0} \n",
        "  for t in tok.tokenize(text): \n",
        "    bf = t.base_form \n",
        "    # 基本形 \n",
        "    # 辞書にあるか確認 \n",
        "    if bf in np_dic: \n",
        "      r = np_dic[bf] \n",
        "    if r in res: \n",
        "      res[r] += 1 \n",
        "\n",
        "  # 結果を表示 \n",
        "  print(res) \n",
        "  cnt = res[\"p\"] + res[\"n\"] + res[\"e\"] \n",
        "  print(\"ポジティブ度\", res[\"p\"] / cnt) \n",
        "  print(\"ネガティブ度\", res[\"n\"] / cnt)"
      ],
      "metadata": {
        "id": "lzEJI-JjCfCO"
      },
      "execution_count": null,
      "outputs": []
    },
    {
      "cell_type": "code",
      "source": [
        "f(\"九条テクノ開発株式会社 代表取締役　九条一郎様 　前略　時下ますますご清栄の段、大慶に存じます。 　私は、貴社（広島市中区◯◯）の近隣の団地の自治会長を務めております佐藤と申します。本日は貴社の早朝のラジオ体操の音量について、ぜひともご検討いただきたく、お願いの書面をお送りする次第です。 　ご承知のとおり貴社のラジオ体操は、お盆と正月の期間を除き、毎日２回、午前６時と13時に行われております。このうち早朝分だけでもせめて音量を少し小さくしていただけないかと思い、お便りをいたしました。貴社にとっては会社の建物であっても、周りには一般市民が普通に生活をしています。朝は５分でも長く睡眠をとりたいというささやかな願いをかなえていただけないでしょうか。 　私自身は一般の企業に勤めており、土・日が休みなのですが、他の住民の皆さんの中には平日が休みという方や、寝たきりのお年寄りの介護をしている方、小さな赤ちゃんがいるお宅もございます。この手紙を書くにあたり、当初は「土日だけでもゆっくり眠れるように音量を検討して欲しい」とお願いするつもりでしたが、やはり可能であれば早朝分については曜日に関係なくボリューム減をお願いしたいと思い直しました。 　社員の皆さんの健康管理を大切にしたい…という社長のお考えを否定するつもりはありません。せめて早朝の静かな時間帯だけは大音量でなく、必要最小限のボリュームにしていただけないでしょうか。 　実はこれまでずっと我慢してきたのですが、ひょっとすると「ラジオ体操の大音響が周辺に非常に良く聞こえており、迷惑をしている人たちがいる」という事実に気づいておられないのかもしれないと思うに至りました。 今後も同様の状態がずっと続くのであれば、神経質な人の中には健康を害する方もいらっしゃるかもしれません。 　企業が健全に発展していくためには、お客様だけでなく、周りの住民との関係やコミュニケーションも非常に大切と考えます。突然のお便りで恐縮ではございますが、ぜひ、ご一考頂きますようお願い申し上げます。 草々　令和◯◯年◯◯月◯◯日広島市中区佐藤一男\")"
      ],
      "metadata": {
        "colab": {
          "base_uri": "https://localhost:8080/"
        },
        "id": "MOYEFcLhDYpH",
        "outputId": "329c2f25-e63c-4476-a541-f2e5ad213e2a"
      },
      "execution_count": null,
      "outputs": [
        {
          "output_type": "stream",
          "name": "stdout",
          "text": [
            "{'p': 133, 'n': 44, 'e': 316}\n",
            "ポジティブ度 0.2697768762677485\n",
            "ネガティブ度 0.08924949290060852\n"
          ]
        }
      ]
    },
    {
      "cell_type": "code",
      "source": [
        "f(\"こちらが 濃厚とんこつ豚無双さんの 濃厚無双ラーメン 海苔トッピングです うっひょ～～～～～～！ 着席時 コップに水垢が付いていたのを見て 大きな声を出したら 店主さんからの誠意で チャーシューをサービスしてもらいました 俺の動画次第でこの店潰す事だってできるんだぞって事で いただきま～～～～す！まずはスープから コラ～！ これでもかって位ドロドロの濃厚スープの中には 虫が入っており 怒りのあまり 卓上調味料を全部倒してしまいました～！ すっかり店側も立場を弁え 誠意のチャーシュー丼を貰った所で お次に 圧倒的存在感の極太麺を 啜る～！ 殺すぞ～！ ワシワシとした食感の麺の中には、髪の毛が入っており さすがのSUSURUも 厨房に入って行ってしまいました～！ ちなみに、店主さんが土下座している様子は ぜひサブチャンネルをご覧ください\")"
      ],
      "metadata": {
        "colab": {
          "base_uri": "https://localhost:8080/"
        },
        "id": "3HeCHio_Dbiv",
        "outputId": "bfa6d651-e7f9-4311-a5f3-21111a263468"
      },
      "execution_count": null,
      "outputs": [
        {
          "output_type": "stream",
          "name": "stdout",
          "text": [
            "{'p': 33, 'n': 55, 'e': 107}\n",
            "ポジティブ度 0.16923076923076924\n",
            "ネガティブ度 0.28205128205128205\n"
          ]
        }
      ]
    },
    {
      "cell_type": "code",
      "source": [
        ""
      ],
      "metadata": {
        "id": "52OE6mehE28G"
      },
      "execution_count": null,
      "outputs": []
    }
  ]
}